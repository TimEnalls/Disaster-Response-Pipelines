{
 "cells": [
  {
   "cell_type": "markdown",
   "metadata": {},
   "source": [
    "# ML Pipeline Preparation\n",
    "Follow the instructions below to help you create your ML pipeline.\n",
    "### 1. Import libraries and load data from database.\n",
    "- Import Python libraries\n",
    "- Load dataset from database with [`read_sql_table`](https://pandas.pydata.org/pandas-docs/stable/generated/pandas.read_sql_table.html)\n",
    "- Define feature and target variables X and Y"
   ]
  },
  {
   "cell_type": "code",
   "execution_count": 1,
   "metadata": {},
   "outputs": [
    {
     "name": "stdout",
     "output_type": "stream",
     "text": [
      "[nltk_data] Downloading package punkt to /root/nltk_data...\n",
      "[nltk_data]   Unzipping tokenizers/punkt.zip.\n",
      "[nltk_data] Downloading package wordnet to /root/nltk_data...\n",
      "[nltk_data]   Unzipping corpora/wordnet.zip.\n",
      "[nltk_data] Downloading package stopwords to /root/nltk_data...\n",
      "[nltk_data]   Unzipping corpora/stopwords.zip.\n"
     ]
    }
   ],
   "source": [
    "# import libraries\n",
    "import pandas as pd\n",
    "import numpy as np\n",
    "\n",
    "import nltk\n",
    "nltk.download(['punkt', 'wordnet', 'stopwords'])\n",
    "from nltk.corpus import stopwords\n",
    "from nltk.tokenize import word_tokenize\n",
    "from nltk.stem import WordNetLemmatizer\n",
    "\n",
    "import re\n",
    "\n",
    "from sklearn.ensemble import RandomForestClassifier,AdaBoostClassifier\n",
    "from sklearn.feature_extraction.text import CountVectorizer, TfidfTransformer\n",
    "from sklearn.metrics import classification_report, accuracy_score, precision_score, recall_score, f1_score\n",
    "from sklearn.model_selection import train_test_split, GridSearchCV\n",
    "from sklearn.multioutput import MultiOutputClassifier\n",
    "from sklearn.pipeline import Pipeline\n",
    "from sklearn.tree import DecisionTreeClassifier\n",
    "\n",
    "import pickle\n",
    "\n",
    "from sqlalchemy import create_engine\n",
    "\n",
    "%matplotlib inline\n",
    "import matplotlib.pyplot as plt"
   ]
  },
  {
   "cell_type": "code",
   "execution_count": 2,
   "metadata": {},
   "outputs": [],
   "source": [
    "# load data from database\n",
    "engine = create_engine('sqlite:///DisasterResponse.db')\n",
    "df = pd.read_sql_table('df', con=engine)\n",
    "\n",
    "# Names all columns starting at the fifth column as \"categories\"\n",
    "categories = df.columns[4:]\n",
    "\n",
    "# X contains values from message column and y contains values from categories columns\n",
    "X = df[['message']].values[:, 0]\n",
    "y = df[categories].values"
   ]
  },
  {
   "cell_type": "markdown",
   "metadata": {},
   "source": [
    "### 2. Write a tokenization function to process your text data"
   ]
  },
  {
   "cell_type": "code",
   "execution_count": 3,
   "metadata": {},
   "outputs": [],
   "source": [
    "url_regex = 'http[s]?://(?:[a-zA-Z]|[0-9]|[$-_@.&+]|[!*\\(\\),]|(?:%[0-9a-fA-F][0-9a-fA-F]))+'\n",
    "\n",
    "\n",
    "def tokenize(text, lemmatizer=WordNetLemmatizer()):\n",
    "    # Detects URLs\n",
    "    detected_urls = re.findall(url_regex, text)\n",
    "    for url in detected_urls:\n",
    "        text = text.replace(url, 'urlplaceholder')\n",
    "    \n",
    "    # Normalizes and tokenizes (removes punctuations and converts to lowercase)\n",
    "    tokens = nltk.word_tokenize(re.sub(r\"[^a-zA-Z0-9]\", \" \", text.lower()))\n",
    "    \n",
    "    # Removes stopwords\n",
    "    tokens = [t for t in tokens if t not in stopwords.words('english')]\n",
    "\n",
    "    # Reduces words to root form\n",
    "    tokens = [lemmatizer.lemmatize(t) for t in tokens]\n",
    "    \n",
    "    return tokens"
   ]
  },
  {
   "cell_type": "code",
   "execution_count": 4,
   "metadata": {},
   "outputs": [],
   "source": [
    "# Converts text in X to word count vectors\n",
    "vect = CountVectorizer(tokenizer=tokenize)\n",
    "X_vectorized = vect.fit_transform(X)"
   ]
  },
  {
   "cell_type": "code",
   "execution_count": 5,
   "metadata": {},
   "outputs": [],
   "source": [
    "# Converts vocabulary into a Pandas dataframe\n",
    "keys, values = [], []\n",
    "for k, v in vect.vocabulary_.items():\n",
    "    keys.append(k)\n",
    "    values.append(v)\n",
    "\n",
    "vocabulary = pd.DataFrame.from_dict({'words': keys, 'counts': values})"
   ]
  },
  {
   "cell_type": "code",
   "execution_count": 6,
   "metadata": {},
   "outputs": [
    {
     "name": "stdout",
     "output_type": "stream",
     "text": [
      "             words  counts\n",
      "0          weather   30238\n",
      "1           update   29379\n",
      "2             cold    6340\n",
      "3            front   11387\n",
      "4             cuba    7416\n",
      "5            could    7131\n",
      "6              pas   20753\n",
      "7            haiti   12561\n",
      "8        hurricane   13480\n",
      "9          looking   16810\n",
      "10         someone   26030\n",
      "11            name   18944\n",
      "12              un   28973\n",
      "13          report   23504\n",
      "14         leogane   16388\n",
      "15              80    1209\n",
      "16              90    1318\n",
      "17       destroyed    8201\n",
      "18        hospital   13291\n",
      "19              st   26378\n",
      "20           croix    7342\n",
      "21     functioning   11476\n",
      "22            need   19122\n",
      "23          supply   27017\n",
      "24     desperately    8168\n",
      "25             say   24686\n",
      "26            west   30321\n",
      "27            side   25545\n",
      "28            rest   23660\n",
      "29         country    7157\n",
      "...            ...     ...\n",
      "31115     farchana   10518\n",
      "31116       abeche    1472\n",
      "31117          goz   12111\n",
      "31118        beida    3950\n",
      "31119   expediency   10273\n",
      "31120           at    3128\n",
      "31121     globulin   11925\n",
      "31122          tig   27995\n",
      "31123    mccartney   17657\n",
      "31124         rupp   24189\n",
      "31125          169     234\n",
      "31126     outbound   20305\n",
      "31127   shinawatra   25383\n",
      "31128       wisely   30528\n",
      "31129     metallic   17912\n",
      "31130       nvbdcp   19687\n",
      "31131     skirmish   25748\n",
      "31132       kigoma   15616\n",
      "31133    causality    5466\n",
      "31134    stalemate   26414\n",
      "31135      hpakant   13354\n",
      "31136      coveted    7196\n",
      "31137         jade   14766\n",
      "31138         01st      17\n",
      "31139     proshika   22253\n",
      "31140         ramu   22776\n",
      "31141     chokoria    5976\n",
      "31142   teargassed   27514\n",
      "31143     harcourt   12710\n",
      "31144  recognizing   23046\n",
      "\n",
      "[31145 rows x 2 columns]\n"
     ]
    }
   ],
   "source": [
    "# Displays the count of each occurence of the words in X\n",
    "print(vocabulary)"
   ]
  },
  {
   "cell_type": "code",
   "execution_count": 7,
   "metadata": {},
   "outputs": [
    {
     "data": {
      "image/png": "[encoded data removed]",
      "text/plain": [
       "<matplotlib.figure.Figure at 0x7f2f1ff5bc18>"
      ]
     },
     "metadata": {
      "needs_background": "light"
     },
     "output_type": "display_data"
    }
   ],
   "source": [
    "plt.figure(figsize=(30, 10))\n",
    "plt.subplots_adjust(wspace=0.5)\n",
    "\n",
    "\n",
    "ax = plt.subplot(1, 2, 2)\n",
    "df[categories].sum().sort_values().plot.barh(ax=ax)\n",
    "plt.title('# of Messages by Category')\n",
    "plt.ylabel('Categories')\n",
    "plt.xlabel('Count of Messages')\n",
    "plt.grid(linestyle='dashed')\n",
    "plt.rcParams[\"font.size\"] = \"11\"\n",
    "\n",
    "plt.show()"
   ]
  },
  {
   "cell_type": "markdown",
   "metadata": {},
   "source": [
    "### 3. Build a machine learning pipeline\n",
    "This machine pipeline should take in the `message` column as input and output classification results on the other 36 categories in the dataset. You may find the [MultiOutputClassifier](http://scikit-learn.org/stable/modules/generated/sklearn.multioutput.MultiOutputClassifier.html) helpful for predicting multiple target variables."
   ]
  },
  {
   "cell_type": "code",
   "execution_count": 8,
   "metadata": {},
   "outputs": [],
   "source": [
    "# Builds a pipeline that counts individual words, normalizes those counts, and predicts multiple target variables\n",
    "pipeline = Pipeline([\n",
    "    ('vect', CountVectorizer(tokenizer=tokenize)),\n",
    "    ('tfidf', TfidfTransformer()),\n",
    "    ('clf', MultiOutputClassifier(RandomForestClassifier(class_weight='balanced')))\n",
    "])"
   ]
  },
  {
   "cell_type": "markdown",
   "metadata": {},
   "source": [
    "### 4. Train pipeline\n",
    "- Split data into train and test sets\n",
    "- Train pipeline"
   ]
  },
  {
   "cell_type": "code",
   "execution_count": 9,
   "metadata": {},
   "outputs": [],
   "source": [
    "# Divides dataset into training and test sets\n",
    "X_train, X_test, y_train, y_test = train_test_split(X, y)"
   ]
  },
  {
   "cell_type": "code",
   "execution_count": 10,
   "metadata": {},
   "outputs": [
    {
     "data": {
      "text/plain": [
       "Pipeline(memory=None,\n",
       "     steps=[('vect', CountVectorizer(analyzer='word', binary=False, decode_error='strict',\n",
       "        dtype=<class 'numpy.int64'>, encoding='utf-8', input='content',\n",
       "        lowercase=True, max_df=1.0, max_features=None, min_df=1,\n",
       "        ngram_range=(1, 1), preprocessor=None, stop_words=None,\n",
       "        strip...oob_score=False, random_state=None,\n",
       "            verbose=0, warm_start=False),\n",
       "           n_jobs=1))])"
      ]
     },
     "execution_count": 10,
     "metadata": {},
     "output_type": "execute_result"
    }
   ],
   "source": [
    "# Fits pipeline on the training set\n",
    "pipeline.fit(X_train, y_train)"
   ]
  },
  {
   "cell_type": "markdown",
   "metadata": {},
   "source": [
    "### 5. Test your model\n",
    "Report the f1 score, precision and recall for each output category of the dataset. You can do this by iterating through the columns and calling sklearn's `classification_report` on each."
   ]
  },
  {
   "cell_type": "code",
   "execution_count": 11,
   "metadata": {},
   "outputs": [],
   "source": [
    "# Creates a function that displays results from predictions\n",
    "def multioutput_classification_report(y_true, y_pred):\n",
    "    for i in range(0, len(categories)):\n",
    "        print(categories[i] + \":\")\n",
    "        print(\"\\tAccuracy: {:.4f}\\tPrecision: {:.4f}\\tRecall: {:.4f}\\tF1_score: {:.4f}\".format(\n",
    "            accuracy_score(y_true[:, i], y_pred[:, i]),\n",
    "            precision_score(y_true[:, i], y_pred[:, i], average='weighted'),\n",
    "            recall_score(y_true[:, i], y_pred[:, i], average='weighted'),\n",
    "            f1_score(y_true[:, i], y_pred[:, i], average='weighted')\n",
    "        ))"
   ]
  },
  {
   "cell_type": "code",
   "execution_count": 12,
   "metadata": {},
   "outputs": [
    {
     "name": "stdout",
     "output_type": "stream",
     "text": [
      "related:\n",
      "\tAccuracy: 0.9894\tPrecision: 0.9894\tRecall: 0.9894\tF1_score: 0.9894\n",
      "request:\n",
      "\tAccuracy: 0.9876\tPrecision: 0.9876\tRecall: 0.9876\tF1_score: 0.9874\n",
      "offer:\n",
      "\tAccuracy: 0.9985\tPrecision: 0.9985\tRecall: 0.9985\tF1_score: 0.9984\n",
      "aid_related:\n",
      "\tAccuracy: 0.9854\tPrecision: 0.9855\tRecall: 0.9854\tF1_score: 0.9854\n",
      "medical_help:\n",
      "\tAccuracy: 0.9886\tPrecision: 0.9886\tRecall: 0.9886\tF1_score: 0.9882\n",
      "medical_products:\n",
      "\tAccuracy: 0.9913\tPrecision: 0.9913\tRecall: 0.9913\tF1_score: 0.9909\n",
      "search_and_rescue:\n",
      "\tAccuracy: 0.9937\tPrecision: 0.9937\tRecall: 0.9937\tF1_score: 0.9933\n",
      "security:\n",
      "\tAccuracy: 0.9948\tPrecision: 0.9948\tRecall: 0.9948\tF1_score: 0.9944\n",
      "military:\n",
      "\tAccuracy: 0.9951\tPrecision: 0.9950\tRecall: 0.9951\tF1_score: 0.9949\n",
      "child_alone:\n",
      "\tAccuracy: 1.0000\tPrecision: 1.0000\tRecall: 1.0000\tF1_score: 1.0000\n",
      "water:\n",
      "\tAccuracy: 0.9955\tPrecision: 0.9955\tRecall: 0.9955\tF1_score: 0.9954\n",
      "food:\n",
      "\tAccuracy: 0.9927\tPrecision: 0.9928\tRecall: 0.9927\tF1_score: 0.9926\n",
      "shelter:\n",
      "\tAccuracy: 0.9921\tPrecision: 0.9922\tRecall: 0.9921\tF1_score: 0.9920\n",
      "clothing:\n",
      "\tAccuracy: 0.9973\tPrecision: 0.9973\tRecall: 0.9973\tF1_score: 0.9971\n",
      "money:\n",
      "\tAccuracy: 0.9955\tPrecision: 0.9955\tRecall: 0.9955\tF1_score: 0.9953\n",
      "missing_people:\n",
      "\tAccuracy: 0.9973\tPrecision: 0.9973\tRecall: 0.9973\tF1_score: 0.9971\n",
      "refugees:\n",
      "\tAccuracy: 0.9935\tPrecision: 0.9935\tRecall: 0.9935\tF1_score: 0.9932\n",
      "death:\n",
      "\tAccuracy: 0.9949\tPrecision: 0.9949\tRecall: 0.9949\tF1_score: 0.9948\n",
      "other_aid:\n",
      "\tAccuracy: 0.9801\tPrecision: 0.9803\tRecall: 0.9801\tF1_score: 0.9795\n",
      "infrastructure_related:\n",
      "\tAccuracy: 0.9872\tPrecision: 0.9873\tRecall: 0.9872\tF1_score: 0.9866\n",
      "transport:\n",
      "\tAccuracy: 0.9911\tPrecision: 0.9911\tRecall: 0.9911\tF1_score: 0.9907\n",
      "buildings:\n",
      "\tAccuracy: 0.9930\tPrecision: 0.9931\tRecall: 0.9930\tF1_score: 0.9928\n",
      "electricity:\n",
      "\tAccuracy: 0.9963\tPrecision: 0.9964\tRecall: 0.9963\tF1_score: 0.9962\n",
      "tools:\n",
      "\tAccuracy: 0.9986\tPrecision: 0.9986\tRecall: 0.9986\tF1_score: 0.9985\n",
      "hospitals:\n",
      "\tAccuracy: 0.9980\tPrecision: 0.9980\tRecall: 0.9980\tF1_score: 0.9979\n",
      "shops:\n",
      "\tAccuracy: 0.9987\tPrecision: 0.9987\tRecall: 0.9987\tF1_score: 0.9986\n",
      "aid_centers:\n",
      "\tAccuracy: 0.9969\tPrecision: 0.9969\tRecall: 0.9969\tF1_score: 0.9967\n",
      "other_infrastructure:\n",
      "\tAccuracy: 0.9901\tPrecision: 0.9901\tRecall: 0.9901\tF1_score: 0.9896\n",
      "weather_related:\n",
      "\tAccuracy: 0.9903\tPrecision: 0.9903\tRecall: 0.9903\tF1_score: 0.9902\n",
      "floods:\n",
      "\tAccuracy: 0.9932\tPrecision: 0.9932\tRecall: 0.9932\tF1_score: 0.9931\n",
      "storm:\n",
      "\tAccuracy: 0.9956\tPrecision: 0.9956\tRecall: 0.9956\tF1_score: 0.9955\n",
      "fire:\n",
      "\tAccuracy: 0.9977\tPrecision: 0.9977\tRecall: 0.9977\tF1_score: 0.9975\n",
      "earthquake:\n",
      "\tAccuracy: 0.9960\tPrecision: 0.9960\tRecall: 0.9960\tF1_score: 0.9960\n",
      "cold:\n",
      "\tAccuracy: 0.9964\tPrecision: 0.9964\tRecall: 0.9964\tF1_score: 0.9962\n",
      "other_weather:\n",
      "\tAccuracy: 0.9897\tPrecision: 0.9898\tRecall: 0.9897\tF1_score: 0.9892\n",
      "direct_report:\n",
      "\tAccuracy: 0.9850\tPrecision: 0.9851\tRecall: 0.9850\tF1_score: 0.9848\n"
     ]
    }
   ],
   "source": [
    "# Predicts messages in the training set based on categories in the training set\n",
    "y_pred = pipeline.predict(X_train)\n",
    "\n",
    "multioutput_classification_report(y_train, y_pred)"
   ]
  },
  {
   "cell_type": "code",
   "execution_count": 13,
   "metadata": {},
   "outputs": [
    {
     "name": "stdout",
     "output_type": "stream",
     "text": [
      "related:\n",
      "\tAccuracy: 0.8146\tPrecision: 0.8036\tRecall: 0.8146\tF1_score: 0.8066\n",
      "request:\n",
      "\tAccuracy: 0.8892\tPrecision: 0.8809\tRecall: 0.8892\tF1_score: 0.8783\n",
      "offer:\n",
      "\tAccuracy: 0.9966\tPrecision: 0.9933\tRecall: 0.9966\tF1_score: 0.9950\n",
      "aid_related:\n",
      "\tAccuracy: 0.7486\tPrecision: 0.7466\tRecall: 0.7486\tF1_score: 0.7449\n",
      "medical_help:\n",
      "\tAccuracy: 0.9248\tPrecision: 0.9028\tRecall: 0.9248\tF1_score: 0.9019\n",
      "medical_products:\n",
      "\tAccuracy: 0.9500\tPrecision: 0.9389\tRecall: 0.9500\tF1_score: 0.9290\n",
      "search_and_rescue:\n",
      "\tAccuracy: 0.9727\tPrecision: 0.9734\tRecall: 0.9727\tF1_score: 0.9597\n",
      "security:\n",
      "\tAccuracy: 0.9823\tPrecision: 0.9652\tRecall: 0.9823\tF1_score: 0.9737\n",
      "military:\n",
      "\tAccuracy: 0.9658\tPrecision: 0.9572\tRecall: 0.9658\tF1_score: 0.9517\n",
      "child_alone:\n",
      "\tAccuracy: 1.0000\tPrecision: 1.0000\tRecall: 1.0000\tF1_score: 1.0000\n",
      "water:\n",
      "\tAccuracy: 0.9535\tPrecision: 0.9510\tRecall: 0.9535\tF1_score: 0.9437\n",
      "food:\n",
      "\tAccuracy: 0.9185\tPrecision: 0.9142\tRecall: 0.9185\tF1_score: 0.9017\n",
      "shelter:\n",
      "\tAccuracy: 0.9306\tPrecision: 0.9206\tRecall: 0.9306\tF1_score: 0.9162\n",
      "clothing:\n",
      "\tAccuracy: 0.9852\tPrecision: 0.9809\tRecall: 0.9852\tF1_score: 0.9794\n",
      "money:\n",
      "\tAccuracy: 0.9760\tPrecision: 0.9766\tRecall: 0.9760\tF1_score: 0.9649\n",
      "missing_people:\n",
      "\tAccuracy: 0.9883\tPrecision: 0.9884\tRecall: 0.9883\tF1_score: 0.9826\n",
      "refugees:\n",
      "\tAccuracy: 0.9684\tPrecision: 0.9585\tRecall: 0.9684\tF1_score: 0.9561\n",
      "death:\n",
      "\tAccuracy: 0.9577\tPrecision: 0.9509\tRecall: 0.9577\tF1_score: 0.9413\n",
      "other_aid:\n",
      "\tAccuracy: 0.8723\tPrecision: 0.8416\tRecall: 0.8723\tF1_score: 0.8249\n",
      "infrastructure_related:\n",
      "\tAccuracy: 0.9359\tPrecision: 0.8896\tRecall: 0.9359\tF1_score: 0.9057\n",
      "transport:\n",
      "\tAccuracy: 0.9545\tPrecision: 0.9455\tRecall: 0.9545\tF1_score: 0.9393\n",
      "buildings:\n",
      "\tAccuracy: 0.9529\tPrecision: 0.9445\tRecall: 0.9529\tF1_score: 0.9333\n",
      "electricity:\n",
      "\tAccuracy: 0.9808\tPrecision: 0.9750\tRecall: 0.9808\tF1_score: 0.9725\n",
      "tools:\n",
      "\tAccuracy: 0.9922\tPrecision: 0.9845\tRecall: 0.9922\tF1_score: 0.9883\n",
      "hospitals:\n",
      "\tAccuracy: 0.9895\tPrecision: 0.9896\tRecall: 0.9895\tF1_score: 0.9844\n",
      "shops:\n",
      "\tAccuracy: 0.9948\tPrecision: 0.9897\tRecall: 0.9948\tF1_score: 0.9922\n",
      "aid_centers:\n",
      "\tAccuracy: 0.9896\tPrecision: 0.9794\tRecall: 0.9896\tF1_score: 0.9845\n",
      "other_infrastructure:\n",
      "\tAccuracy: 0.9558\tPrecision: 0.9140\tRecall: 0.9558\tF1_score: 0.9344\n",
      "weather_related:\n",
      "\tAccuracy: 0.8506\tPrecision: 0.8484\tRecall: 0.8506\tF1_score: 0.8419\n",
      "floods:\n",
      "\tAccuracy: 0.9327\tPrecision: 0.9274\tRecall: 0.9327\tF1_score: 0.9154\n",
      "storm:\n",
      "\tAccuracy: 0.9316\tPrecision: 0.9241\tRecall: 0.9316\tF1_score: 0.9208\n",
      "fire:\n",
      "\tAccuracy: 0.9887\tPrecision: 0.9775\tRecall: 0.9887\tF1_score: 0.9831\n",
      "earthquake:\n",
      "\tAccuracy: 0.9564\tPrecision: 0.9541\tRecall: 0.9564\tF1_score: 0.9527\n",
      "cold:\n",
      "\tAccuracy: 0.9809\tPrecision: 0.9714\tRecall: 0.9809\tF1_score: 0.9736\n",
      "other_weather:\n",
      "\tAccuracy: 0.9468\tPrecision: 0.9271\tRecall: 0.9468\tF1_score: 0.9219\n",
      "direct_report:\n",
      "\tAccuracy: 0.8468\tPrecision: 0.8316\tRecall: 0.8468\tF1_score: 0.8268\n"
     ]
    },
    {
     "name": "stderr",
     "output_type": "stream",
     "text": [
      "/opt/conda/lib/python3.6/site-packages/sklearn/metrics/classification.py:1135: UndefinedMetricWarning: Precision is ill-defined and being set to 0.0 in labels with no predicted samples.\n",
      "  'precision', 'predicted', average, warn_for)\n",
      "/opt/conda/lib/python3.6/site-packages/sklearn/metrics/classification.py:1135: UndefinedMetricWarning: F-score is ill-defined and being set to 0.0 in labels with no predicted samples.\n",
      "  'precision', 'predicted', average, warn_for)\n"
     ]
    }
   ],
   "source": [
    "# Predicts messages in the test set based on categories in the test set\n",
    "y_pred = pipeline.predict(X_test)\n",
    "\n",
    "multioutput_classification_report(y_test, y_pred)"
   ]
  },
  {
   "cell_type": "markdown",
   "metadata": {},
   "source": [
    "### 6. Improve your model\n",
    "Use grid search to find better parameters. "
   ]
  },
  {
   "cell_type": "code",
   "execution_count": 14,
   "metadata": {},
   "outputs": [],
   "source": [
    "parameters = {\n",
    "    'clf__estimator__n_estimators': [50, 100]\n",
    "}\n",
    "\n",
    "cv = GridSearchCV(estimator=pipeline, param_grid=parameters, cv=3, scoring='f1_weighted', verbose=3)"
   ]
  },
  {
   "cell_type": "code",
   "execution_count": 15,
   "metadata": {},
   "outputs": [
    {
     "name": "stdout",
     "output_type": "stream",
     "text": [
      "Fitting 3 folds for each of 2 candidates, totalling 6 fits\n",
      "[CV] clf__estimator__n_estimators=50 .................................\n"
     ]
    },
    {
     "name": "stderr",
     "output_type": "stream",
     "text": [
      "/opt/conda/lib/python3.6/site-packages/sklearn/metrics/classification.py:1135: UndefinedMetricWarning: F-score is ill-defined and being set to 0.0 in labels with no predicted samples.\n",
      "  'precision', 'predicted', average, warn_for)\n",
      "/opt/conda/lib/python3.6/site-packages/sklearn/metrics/classification.py:1137: UndefinedMetricWarning: F-score is ill-defined and being set to 0.0 in labels with no true samples.\n",
      "  'recall', 'true', average, warn_for)\n"
     ]
    },
    {
     "name": "stdout",
     "output_type": "stream",
     "text": [
      "[CV]  clf__estimator__n_estimators=50, score=0.5474089416541853, total= 4.4min\n",
      "[CV] clf__estimator__n_estimators=50 .................................\n"
     ]
    },
    {
     "name": "stderr",
     "output_type": "stream",
     "text": [
      "[Parallel(n_jobs=1)]: Done   1 out of   1 | elapsed:  5.5min remaining:    0.0s\n",
      "/opt/conda/lib/python3.6/site-packages/sklearn/metrics/classification.py:1135: UndefinedMetricWarning: F-score is ill-defined and being set to 0.0 in labels with no predicted samples.\n",
      "  'precision', 'predicted', average, warn_for)\n",
      "/opt/conda/lib/python3.6/site-packages/sklearn/metrics/classification.py:1137: UndefinedMetricWarning: F-score is ill-defined and being set to 0.0 in labels with no true samples.\n",
      "  'recall', 'true', average, warn_for)\n"
     ]
    },
    {
     "name": "stdout",
     "output_type": "stream",
     "text": [
      "[CV]  clf__estimator__n_estimators=50, score=0.5387660453117729, total= 4.5min\n",
      "[CV] clf__estimator__n_estimators=50 .................................\n"
     ]
    },
    {
     "name": "stderr",
     "output_type": "stream",
     "text": [
      "[Parallel(n_jobs=1)]: Done   2 out of   2 | elapsed: 11.2min remaining:    0.0s\n",
      "/opt/conda/lib/python3.6/site-packages/sklearn/metrics/classification.py:1135: UndefinedMetricWarning: F-score is ill-defined and being set to 0.0 in labels with no predicted samples.\n",
      "  'precision', 'predicted', average, warn_for)\n",
      "/opt/conda/lib/python3.6/site-packages/sklearn/metrics/classification.py:1137: UndefinedMetricWarning: F-score is ill-defined and being set to 0.0 in labels with no true samples.\n",
      "  'recall', 'true', average, warn_for)\n"
     ]
    },
    {
     "name": "stdout",
     "output_type": "stream",
     "text": [
      "[CV]  clf__estimator__n_estimators=50, score=0.5505913036925019, total= 4.5min\n",
      "[CV] clf__estimator__n_estimators=100 ................................\n"
     ]
    },
    {
     "name": "stderr",
     "output_type": "stream",
     "text": [
      "/opt/conda/lib/python3.6/site-packages/sklearn/metrics/classification.py:1135: UndefinedMetricWarning: F-score is ill-defined and being set to 0.0 in labels with no predicted samples.\n",
      "  'precision', 'predicted', average, warn_for)\n",
      "/opt/conda/lib/python3.6/site-packages/sklearn/metrics/classification.py:1137: UndefinedMetricWarning: F-score is ill-defined and being set to 0.0 in labels with no true samples.\n",
      "  'recall', 'true', average, warn_for)\n"
     ]
    },
    {
     "name": "stdout",
     "output_type": "stream",
     "text": [
      "[CV]  clf__estimator__n_estimators=100, score=0.549298528451953, total= 7.4min\n",
      "[CV] clf__estimator__n_estimators=100 ................................\n"
     ]
    },
    {
     "name": "stderr",
     "output_type": "stream",
     "text": [
      "/opt/conda/lib/python3.6/site-packages/sklearn/metrics/classification.py:1135: UndefinedMetricWarning: F-score is ill-defined and being set to 0.0 in labels with no predicted samples.\n",
      "  'precision', 'predicted', average, warn_for)\n",
      "/opt/conda/lib/python3.6/site-packages/sklearn/metrics/classification.py:1137: UndefinedMetricWarning: F-score is ill-defined and being set to 0.0 in labels with no true samples.\n",
      "  'recall', 'true', average, warn_for)\n"
     ]
    },
    {
     "name": "stdout",
     "output_type": "stream",
     "text": [
      "[CV]  clf__estimator__n_estimators=100, score=0.5490508923201218, total= 7.6min\n",
      "[CV] clf__estimator__n_estimators=100 ................................\n"
     ]
    },
    {
     "name": "stderr",
     "output_type": "stream",
     "text": [
      "/opt/conda/lib/python3.6/site-packages/sklearn/metrics/classification.py:1135: UndefinedMetricWarning: F-score is ill-defined and being set to 0.0 in labels with no predicted samples.\n",
      "  'precision', 'predicted', average, warn_for)\n",
      "/opt/conda/lib/python3.6/site-packages/sklearn/metrics/classification.py:1137: UndefinedMetricWarning: F-score is ill-defined and being set to 0.0 in labels with no true samples.\n",
      "  'recall', 'true', average, warn_for)\n"
     ]
    },
    {
     "name": "stdout",
     "output_type": "stream",
     "text": [
      "[CV]  clf__estimator__n_estimators=100, score=0.5524727257183204, total= 7.7min\n"
     ]
    },
    {
     "name": "stderr",
     "output_type": "stream",
     "text": [
      "[Parallel(n_jobs=1)]: Done   6 out of   6 | elapsed: 43.8min finished\n"
     ]
    },
    {
     "data": {
      "text/plain": [
       "GridSearchCV(cv=3, error_score='raise',\n",
       "       estimator=Pipeline(memory=None,\n",
       "     steps=[('vect', CountVectorizer(analyzer='word', binary=False, decode_error='strict',\n",
       "        dtype=<class 'numpy.int64'>, encoding='utf-8', input='content',\n",
       "        lowercase=True, max_df=1.0, max_features=None, min_df=1,\n",
       "        ngram_range=(1, 1), preprocessor=None, stop_words=None,\n",
       "        strip...oob_score=False, random_state=None,\n",
       "            verbose=0, warm_start=False),\n",
       "           n_jobs=1))]),\n",
       "       fit_params=None, iid=True, n_jobs=1,\n",
       "       param_grid={'clf__estimator__n_estimators': [50, 100]},\n",
       "       pre_dispatch='2*n_jobs', refit=True, return_train_score='warn',\n",
       "       scoring='f1_weighted', verbose=3)"
      ]
     },
     "execution_count": 15,
     "metadata": {},
     "output_type": "execute_result"
    }
   ],
   "source": [
    "cv.fit(X_train, y_train)"
   ]
  },
  {
   "cell_type": "markdown",
   "metadata": {},
   "source": [
    "### 7. Test your model\n",
    "Show the accuracy, precision, and recall of the tuned model.  \n",
    "\n",
    "Since this project focuses on code quality, process, and  pipelines, there is no minimum performance metric needed to pass. However, make sure to fine tune your models for accuracy, precision and recall to make your project stand out - especially for your portfolio!"
   ]
  },
  {
   "cell_type": "code",
   "execution_count": 16,
   "metadata": {},
   "outputs": [
    {
     "name": "stdout",
     "output_type": "stream",
     "text": [
      "related:\n",
      "\tAccuracy: 0.9979\tPrecision: 0.9979\tRecall: 0.9979\tF1_score: 0.9979\n",
      "request:\n",
      "\tAccuracy: 0.9989\tPrecision: 0.9989\tRecall: 0.9989\tF1_score: 0.9989\n",
      "offer:\n",
      "\tAccuracy: 0.9998\tPrecision: 0.9998\tRecall: 0.9998\tF1_score: 0.9998\n",
      "aid_related:\n",
      "\tAccuracy: 0.9988\tPrecision: 0.9988\tRecall: 0.9988\tF1_score: 0.9988\n",
      "medical_help:\n",
      "\tAccuracy: 0.9993\tPrecision: 0.9993\tRecall: 0.9993\tF1_score: 0.9993\n",
      "medical_products:\n",
      "\tAccuracy: 0.9996\tPrecision: 0.9996\tRecall: 0.9996\tF1_score: 0.9996\n",
      "search_and_rescue:\n",
      "\tAccuracy: 0.9996\tPrecision: 0.9996\tRecall: 0.9996\tF1_score: 0.9996\n",
      "security:\n",
      "\tAccuracy: 0.9996\tPrecision: 0.9996\tRecall: 0.9996\tF1_score: 0.9996\n",
      "military:\n",
      "\tAccuracy: 0.9996\tPrecision: 0.9996\tRecall: 0.9996\tF1_score: 0.9996\n",
      "child_alone:\n",
      "\tAccuracy: 1.0000\tPrecision: 1.0000\tRecall: 1.0000\tF1_score: 1.0000\n",
      "water:\n",
      "\tAccuracy: 0.9999\tPrecision: 0.9999\tRecall: 0.9999\tF1_score: 0.9999\n",
      "food:\n",
      "\tAccuracy: 0.9999\tPrecision: 0.9999\tRecall: 0.9999\tF1_score: 0.9999\n",
      "shelter:\n",
      "\tAccuracy: 0.9998\tPrecision: 0.9998\tRecall: 0.9998\tF1_score: 0.9998\n",
      "clothing:\n",
      "\tAccuracy: 1.0000\tPrecision: 1.0000\tRecall: 1.0000\tF1_score: 1.0000\n",
      "money:\n",
      "\tAccuracy: 0.9999\tPrecision: 0.9999\tRecall: 0.9999\tF1_score: 0.9999\n",
      "missing_people:\n",
      "\tAccuracy: 1.0000\tPrecision: 1.0000\tRecall: 1.0000\tF1_score: 1.0000\n",
      "refugees:\n",
      "\tAccuracy: 0.9996\tPrecision: 0.9996\tRecall: 0.9996\tF1_score: 0.9996\n",
      "death:\n",
      "\tAccuracy: 0.9998\tPrecision: 0.9998\tRecall: 0.9998\tF1_score: 0.9998\n",
      "other_aid:\n",
      "\tAccuracy: 0.9988\tPrecision: 0.9988\tRecall: 0.9988\tF1_score: 0.9988\n",
      "infrastructure_related:\n",
      "\tAccuracy: 0.9994\tPrecision: 0.9994\tRecall: 0.9994\tF1_score: 0.9994\n",
      "transport:\n",
      "\tAccuracy: 0.9996\tPrecision: 0.9996\tRecall: 0.9996\tF1_score: 0.9996\n",
      "buildings:\n",
      "\tAccuracy: 0.9999\tPrecision: 0.9999\tRecall: 0.9999\tF1_score: 0.9999\n",
      "electricity:\n",
      "\tAccuracy: 1.0000\tPrecision: 1.0000\tRecall: 1.0000\tF1_score: 1.0000\n",
      "tools:\n",
      "\tAccuracy: 0.9999\tPrecision: 0.9999\tRecall: 0.9999\tF1_score: 0.9999\n",
      "hospitals:\n",
      "\tAccuracy: 0.9999\tPrecision: 0.9999\tRecall: 0.9999\tF1_score: 0.9999\n",
      "shops:\n",
      "\tAccuracy: 1.0000\tPrecision: 1.0000\tRecall: 1.0000\tF1_score: 1.0000\n",
      "aid_centers:\n",
      "\tAccuracy: 0.9998\tPrecision: 0.9998\tRecall: 0.9998\tF1_score: 0.9998\n",
      "other_infrastructure:\n",
      "\tAccuracy: 0.9996\tPrecision: 0.9996\tRecall: 0.9996\tF1_score: 0.9996\n",
      "weather_related:\n",
      "\tAccuracy: 0.9994\tPrecision: 0.9994\tRecall: 0.9994\tF1_score: 0.9994\n",
      "floods:\n",
      "\tAccuracy: 0.9997\tPrecision: 0.9997\tRecall: 0.9997\tF1_score: 0.9997\n",
      "storm:\n",
      "\tAccuracy: 0.9997\tPrecision: 0.9997\tRecall: 0.9997\tF1_score: 0.9997\n",
      "fire:\n",
      "\tAccuracy: 1.0000\tPrecision: 1.0000\tRecall: 1.0000\tF1_score: 1.0000\n",
      "earthquake:\n",
      "\tAccuracy: 0.9997\tPrecision: 0.9997\tRecall: 0.9997\tF1_score: 0.9997\n",
      "cold:\n",
      "\tAccuracy: 0.9997\tPrecision: 0.9997\tRecall: 0.9997\tF1_score: 0.9997\n",
      "other_weather:\n",
      "\tAccuracy: 0.9998\tPrecision: 0.9998\tRecall: 0.9998\tF1_score: 0.9998\n",
      "direct_report:\n",
      "\tAccuracy: 0.9990\tPrecision: 0.9990\tRecall: 0.9990\tF1_score: 0.9990\n"
     ]
    }
   ],
   "source": [
    "y_pred = cv.predict(X_train)\n",
    "\n",
    "multioutput_classification_report(y_train, y_pred)"
   ]
  },
  {
   "cell_type": "code",
   "execution_count": 17,
   "metadata": {},
   "outputs": [
    {
     "name": "stdout",
     "output_type": "stream",
     "text": [
      "related:\n",
      "\tAccuracy: 0.8300\tPrecision: 0.8185\tRecall: 0.8300\tF1_score: 0.8163\n",
      "request:\n",
      "\tAccuracy: 0.9005\tPrecision: 0.8947\tRecall: 0.9005\tF1_score: 0.8916\n",
      "offer:\n",
      "\tAccuracy: 0.9966\tPrecision: 0.9933\tRecall: 0.9966\tF1_score: 0.9950\n",
      "aid_related:\n",
      "\tAccuracy: 0.7782\tPrecision: 0.7772\tRecall: 0.7782\tF1_score: 0.7775\n",
      "medical_help:\n",
      "\tAccuracy: 0.9254\tPrecision: 0.9108\tRecall: 0.9254\tF1_score: 0.8953\n",
      "medical_products:\n",
      "\tAccuracy: 0.9501\tPrecision: 0.9389\tRecall: 0.9501\tF1_score: 0.9296\n",
      "search_and_rescue:\n",
      "\tAccuracy: 0.9725\tPrecision: 0.9733\tRecall: 0.9725\tF1_score: 0.9593\n",
      "security:\n",
      "\tAccuracy: 0.9823\tPrecision: 0.9652\tRecall: 0.9823\tF1_score: 0.9737\n",
      "military:\n",
      "\tAccuracy: 0.9651\tPrecision: 0.9549\tRecall: 0.9651\tF1_score: 0.9492\n",
      "child_alone:\n",
      "\tAccuracy: 1.0000\tPrecision: 1.0000\tRecall: 1.0000\tF1_score: 1.0000\n",
      "water:\n",
      "\tAccuracy: 0.9513\tPrecision: 0.9492\tRecall: 0.9513\tF1_score: 0.9398\n",
      "food:\n",
      "\tAccuracy: 0.9396\tPrecision: 0.9355\tRecall: 0.9396\tF1_score: 0.9348\n",
      "shelter:\n",
      "\tAccuracy: 0.9356\tPrecision: 0.9292\tRecall: 0.9356\tF1_score: 0.9226\n",
      "clothing:\n",
      "\tAccuracy: 0.9849\tPrecision: 0.9795\tRecall: 0.9849\tF1_score: 0.9788\n",
      "money:\n",
      "\tAccuracy: 0.9757\tPrecision: 0.9763\tRecall: 0.9757\tF1_score: 0.9642\n",
      "missing_people:\n",
      "\tAccuracy: 0.9884\tPrecision: 0.9857\tRecall: 0.9884\tF1_score: 0.9832\n",
      "refugees:\n",
      "\tAccuracy: 0.9677\tPrecision: 0.9687\tRecall: 0.9677\tF1_score: 0.9519\n",
      "death:\n",
      "\tAccuracy: 0.9588\tPrecision: 0.9567\tRecall: 0.9588\tF1_score: 0.9427\n",
      "other_aid:\n",
      "\tAccuracy: 0.8746\tPrecision: 0.8566\tRecall: 0.8746\tF1_score: 0.8266\n",
      "infrastructure_related:\n",
      "\tAccuracy: 0.9355\tPrecision: 0.8767\tRecall: 0.9355\tF1_score: 0.9051\n",
      "transport:\n",
      "\tAccuracy: 0.9510\tPrecision: 0.9403\tRecall: 0.9510\tF1_score: 0.9287\n",
      "buildings:\n",
      "\tAccuracy: 0.9535\tPrecision: 0.9451\tRecall: 0.9535\tF1_score: 0.9352\n",
      "electricity:\n",
      "\tAccuracy: 0.9802\tPrecision: 0.9677\tRecall: 0.9802\tF1_score: 0.9708\n",
      "tools:\n",
      "\tAccuracy: 0.9922\tPrecision: 0.9845\tRecall: 0.9922\tF1_score: 0.9883\n",
      "hospitals:\n",
      "\tAccuracy: 0.9893\tPrecision: 0.9788\tRecall: 0.9893\tF1_score: 0.9840\n",
      "shops:\n",
      "\tAccuracy: 0.9948\tPrecision: 0.9897\tRecall: 0.9948\tF1_score: 0.9922\n",
      "aid_centers:\n",
      "\tAccuracy: 0.9892\tPrecision: 0.9794\tRecall: 0.9892\tF1_score: 0.9842\n",
      "other_infrastructure:\n",
      "\tAccuracy: 0.9558\tPrecision: 0.9140\tRecall: 0.9558\tF1_score: 0.9344\n",
      "weather_related:\n",
      "\tAccuracy: 0.8819\tPrecision: 0.8802\tRecall: 0.8819\tF1_score: 0.8778\n",
      "floods:\n",
      "\tAccuracy: 0.9370\tPrecision: 0.9364\tRecall: 0.9370\tF1_score: 0.9209\n",
      "storm:\n",
      "\tAccuracy: 0.9342\tPrecision: 0.9274\tRecall: 0.9342\tF1_score: 0.9247\n",
      "fire:\n",
      "\tAccuracy: 0.9887\tPrecision: 0.9775\tRecall: 0.9887\tF1_score: 0.9831\n",
      "earthquake:\n",
      "\tAccuracy: 0.9588\tPrecision: 0.9568\tRecall: 0.9588\tF1_score: 0.9556\n",
      "cold:\n",
      "\tAccuracy: 0.9808\tPrecision: 0.9691\tRecall: 0.9808\tF1_score: 0.9727\n",
      "other_weather:\n",
      "\tAccuracy: 0.9463\tPrecision: 0.9095\tRecall: 0.9463\tF1_score: 0.9208\n",
      "direct_report:\n",
      "\tAccuracy: 0.8579\tPrecision: 0.8477\tRecall: 0.8579\tF1_score: 0.8386\n"
     ]
    },
    {
     "name": "stderr",
     "output_type": "stream",
     "text": [
      "/opt/conda/lib/python3.6/site-packages/sklearn/metrics/classification.py:1135: UndefinedMetricWarning: Precision is ill-defined and being set to 0.0 in labels with no predicted samples.\n",
      "  'precision', 'predicted', average, warn_for)\n",
      "/opt/conda/lib/python3.6/site-packages/sklearn/metrics/classification.py:1135: UndefinedMetricWarning: F-score is ill-defined and being set to 0.0 in labels with no predicted samples.\n",
      "  'precision', 'predicted', average, warn_for)\n"
     ]
    }
   ],
   "source": [
    "y_pred = cv.predict(X_test)\n",
    "\n",
    "multioutput_classification_report(y_test, y_pred)"
   ]
  },
  {
   "cell_type": "markdown",
   "metadata": {},
   "source": [
    "### 8. Try improving your model further. Here are a few ideas:\n",
    "* try other machine learning algorithms\n",
    "* add other features besides the TF-IDF"
   ]
  },
  {
   "cell_type": "code",
   "execution_count": 18,
   "metadata": {},
   "outputs": [],
   "source": [
    "# Builds a pipeline using the AdaBoost classifier\n",
    "pipeline_ada = Pipeline([\n",
    "    ('vect', CountVectorizer(tokenizer=tokenize)),\n",
    "    ('tfidf', TfidfTransformer()),\n",
    "    ('clf', MultiOutputClassifier(\n",
    "        AdaBoostClassifier(base_estimator=DecisionTreeClassifier(max_depth=1, class_weight='balanced'))\n",
    "    ))\n",
    "])\n",
    "\n",
    "parameters_ada = {\n",
    "    'clf__estimator__learning_rate': [0.1, 0.3],\n",
    "    'clf__estimator__n_estimators': [200, 400]\n",
    "}\n",
    "\n",
    "cv_ada = GridSearchCV(estimator=pipeline_ada, param_grid=parameters_ada, cv=3, scoring='f1_weighted', verbose=3)"
   ]
  },
  {
   "cell_type": "code",
   "execution_count": 19,
   "metadata": {},
   "outputs": [
    {
     "name": "stdout",
     "output_type": "stream",
     "text": [
      "Fitting 3 folds for each of 4 candidates, totalling 12 fits\n",
      "[CV] clf__estimator__learning_rate=0.1, clf__estimator__n_estimators=200 \n"
     ]
    },
    {
     "name": "stderr",
     "output_type": "stream",
     "text": [
      "/opt/conda/lib/python3.6/site-packages/sklearn/metrics/classification.py:1135: UndefinedMetricWarning: F-score is ill-defined and being set to 0.0 in labels with no predicted samples.\n",
      "  'precision', 'predicted', average, warn_for)\n",
      "/opt/conda/lib/python3.6/site-packages/sklearn/metrics/classification.py:1137: UndefinedMetricWarning: F-score is ill-defined and being set to 0.0 in labels with no true samples.\n",
      "  'recall', 'true', average, warn_for)\n"
     ]
    },
    {
     "name": "stdout",
     "output_type": "stream",
     "text": [
      "[CV]  clf__estimator__learning_rate=0.1, clf__estimator__n_estimators=200, score=0.6223461454255799, total= 6.1min\n",
      "[CV] clf__estimator__learning_rate=0.1, clf__estimator__n_estimators=200 \n"
     ]
    },
    {
     "name": "stderr",
     "output_type": "stream",
     "text": [
      "[Parallel(n_jobs=1)]: Done   1 out of   1 | elapsed:  7.3min remaining:    0.0s\n",
      "/opt/conda/lib/python3.6/site-packages/sklearn/metrics/classification.py:1135: UndefinedMetricWarning: F-score is ill-defined and being set to 0.0 in labels with no predicted samples.\n",
      "  'precision', 'predicted', average, warn_for)\n",
      "/opt/conda/lib/python3.6/site-packages/sklearn/metrics/classification.py:1137: UndefinedMetricWarning: F-score is ill-defined and being set to 0.0 in labels with no true samples.\n",
      "  'recall', 'true', average, warn_for)\n"
     ]
    },
    {
     "name": "stdout",
     "output_type": "stream",
     "text": [
      "[CV]  clf__estimator__learning_rate=0.1, clf__estimator__n_estimators=200, score=0.6205066152116923, total= 6.0min\n",
      "[CV] clf__estimator__learning_rate=0.1, clf__estimator__n_estimators=200 \n"
     ]
    },
    {
     "name": "stderr",
     "output_type": "stream",
     "text": [
      "[Parallel(n_jobs=1)]: Done   2 out of   2 | elapsed: 14.6min remaining:    0.0s\n",
      "/opt/conda/lib/python3.6/site-packages/sklearn/metrics/classification.py:1135: UndefinedMetricWarning: F-score is ill-defined and being set to 0.0 in labels with no predicted samples.\n",
      "  'precision', 'predicted', average, warn_for)\n",
      "/opt/conda/lib/python3.6/site-packages/sklearn/metrics/classification.py:1137: UndefinedMetricWarning: F-score is ill-defined and being set to 0.0 in labels with no true samples.\n",
      "  'recall', 'true', average, warn_for)\n"
     ]
    },
    {
     "name": "stdout",
     "output_type": "stream",
     "text": [
      "[CV]  clf__estimator__learning_rate=0.1, clf__estimator__n_estimators=200, score=0.6232495121049335, total= 6.1min\n",
      "[CV] clf__estimator__learning_rate=0.1, clf__estimator__n_estimators=400 \n"
     ]
    },
    {
     "name": "stderr",
     "output_type": "stream",
     "text": [
      "/opt/conda/lib/python3.6/site-packages/sklearn/metrics/classification.py:1135: UndefinedMetricWarning: F-score is ill-defined and being set to 0.0 in labels with no predicted samples.\n",
      "  'precision', 'predicted', average, warn_for)\n",
      "/opt/conda/lib/python3.6/site-packages/sklearn/metrics/classification.py:1137: UndefinedMetricWarning: F-score is ill-defined and being set to 0.0 in labels with no true samples.\n",
      "  'recall', 'true', average, warn_for)\n"
     ]
    },
    {
     "name": "stdout",
     "output_type": "stream",
     "text": [
      "[CV]  clf__estimator__learning_rate=0.1, clf__estimator__n_estimators=400, score=0.6317949606532548, total=10.7min\n",
      "[CV] clf__estimator__learning_rate=0.1, clf__estimator__n_estimators=400 \n"
     ]
    },
    {
     "name": "stderr",
     "output_type": "stream",
     "text": [
      "/opt/conda/lib/python3.6/site-packages/sklearn/metrics/classification.py:1135: UndefinedMetricWarning: F-score is ill-defined and being set to 0.0 in labels with no predicted samples.\n",
      "  'precision', 'predicted', average, warn_for)\n",
      "/opt/conda/lib/python3.6/site-packages/sklearn/metrics/classification.py:1137: UndefinedMetricWarning: F-score is ill-defined and being set to 0.0 in labels with no true samples.\n",
      "  'recall', 'true', average, warn_for)\n"
     ]
    },
    {
     "name": "stdout",
     "output_type": "stream",
     "text": [
      "[CV]  clf__estimator__learning_rate=0.1, clf__estimator__n_estimators=400, score=0.6305171087972324, total=10.9min\n",
      "[CV] clf__estimator__learning_rate=0.1, clf__estimator__n_estimators=400 \n"
     ]
    },
    {
     "name": "stderr",
     "output_type": "stream",
     "text": [
      "/opt/conda/lib/python3.6/site-packages/sklearn/metrics/classification.py:1135: UndefinedMetricWarning: F-score is ill-defined and being set to 0.0 in labels with no predicted samples.\n",
      "  'precision', 'predicted', average, warn_for)\n",
      "/opt/conda/lib/python3.6/site-packages/sklearn/metrics/classification.py:1137: UndefinedMetricWarning: F-score is ill-defined and being set to 0.0 in labels with no true samples.\n",
      "  'recall', 'true', average, warn_for)\n"
     ]
    },
    {
     "name": "stdout",
     "output_type": "stream",
     "text": [
      "[CV]  clf__estimator__learning_rate=0.1, clf__estimator__n_estimators=400, score=0.6300874403358379, total=10.8min\n",
      "[CV] clf__estimator__learning_rate=0.3, clf__estimator__n_estimators=200 \n"
     ]
    },
    {
     "name": "stderr",
     "output_type": "stream",
     "text": [
      "/opt/conda/lib/python3.6/site-packages/sklearn/metrics/classification.py:1135: UndefinedMetricWarning: F-score is ill-defined and being set to 0.0 in labels with no predicted samples.\n",
      "  'precision', 'predicted', average, warn_for)\n",
      "/opt/conda/lib/python3.6/site-packages/sklearn/metrics/classification.py:1137: UndefinedMetricWarning: F-score is ill-defined and being set to 0.0 in labels with no true samples.\n",
      "  'recall', 'true', average, warn_for)\n"
     ]
    },
    {
     "name": "stdout",
     "output_type": "stream",
     "text": [
      "[CV]  clf__estimator__learning_rate=0.3, clf__estimator__n_estimators=200, score=0.6322307072123016, total= 6.1min\n",
      "[CV] clf__estimator__learning_rate=0.3, clf__estimator__n_estimators=200 \n"
     ]
    },
    {
     "name": "stderr",
     "output_type": "stream",
     "text": [
      "/opt/conda/lib/python3.6/site-packages/sklearn/metrics/classification.py:1135: UndefinedMetricWarning: F-score is ill-defined and being set to 0.0 in labels with no predicted samples.\n",
      "  'precision', 'predicted', average, warn_for)\n",
      "/opt/conda/lib/python3.6/site-packages/sklearn/metrics/classification.py:1137: UndefinedMetricWarning: F-score is ill-defined and being set to 0.0 in labels with no true samples.\n",
      "  'recall', 'true', average, warn_for)\n"
     ]
    },
    {
     "name": "stdout",
     "output_type": "stream",
     "text": [
      "[CV]  clf__estimator__learning_rate=0.3, clf__estimator__n_estimators=200, score=0.6339702325345058, total= 6.1min\n",
      "[CV] clf__estimator__learning_rate=0.3, clf__estimator__n_estimators=200 \n"
     ]
    },
    {
     "name": "stderr",
     "output_type": "stream",
     "text": [
      "/opt/conda/lib/python3.6/site-packages/sklearn/metrics/classification.py:1135: UndefinedMetricWarning: F-score is ill-defined and being set to 0.0 in labels with no predicted samples.\n",
      "  'precision', 'predicted', average, warn_for)\n",
      "/opt/conda/lib/python3.6/site-packages/sklearn/metrics/classification.py:1137: UndefinedMetricWarning: F-score is ill-defined and being set to 0.0 in labels with no true samples.\n",
      "  'recall', 'true', average, warn_for)\n"
     ]
    },
    {
     "name": "stdout",
     "output_type": "stream",
     "text": [
      "[CV]  clf__estimator__learning_rate=0.3, clf__estimator__n_estimators=200, score=0.6332024900282064, total= 6.1min\n",
      "[CV] clf__estimator__learning_rate=0.3, clf__estimator__n_estimators=400 \n"
     ]
    },
    {
     "name": "stderr",
     "output_type": "stream",
     "text": [
      "/opt/conda/lib/python3.6/site-packages/sklearn/metrics/classification.py:1135: UndefinedMetricWarning: F-score is ill-defined and being set to 0.0 in labels with no predicted samples.\n",
      "  'precision', 'predicted', average, warn_for)\n",
      "/opt/conda/lib/python3.6/site-packages/sklearn/metrics/classification.py:1137: UndefinedMetricWarning: F-score is ill-defined and being set to 0.0 in labels with no true samples.\n",
      "  'recall', 'true', average, warn_for)\n"
     ]
    },
    {
     "name": "stdout",
     "output_type": "stream",
     "text": [
      "[CV]  clf__estimator__learning_rate=0.3, clf__estimator__n_estimators=400, score=0.6386737769945916, total=10.8min\n",
      "[CV] clf__estimator__learning_rate=0.3, clf__estimator__n_estimators=400 \n"
     ]
    },
    {
     "name": "stderr",
     "output_type": "stream",
     "text": [
      "/opt/conda/lib/python3.6/site-packages/sklearn/metrics/classification.py:1135: UndefinedMetricWarning: F-score is ill-defined and being set to 0.0 in labels with no predicted samples.\n",
      "  'precision', 'predicted', average, warn_for)\n",
      "/opt/conda/lib/python3.6/site-packages/sklearn/metrics/classification.py:1137: UndefinedMetricWarning: F-score is ill-defined and being set to 0.0 in labels with no true samples.\n",
      "  'recall', 'true', average, warn_for)\n"
     ]
    },
    {
     "name": "stdout",
     "output_type": "stream",
     "text": [
      "[CV]  clf__estimator__learning_rate=0.3, clf__estimator__n_estimators=400, score=0.6379063008067651, total=10.8min\n",
      "[CV] clf__estimator__learning_rate=0.3, clf__estimator__n_estimators=400 \n"
     ]
    },
    {
     "name": "stderr",
     "output_type": "stream",
     "text": [
      "/opt/conda/lib/python3.6/site-packages/sklearn/metrics/classification.py:1135: UndefinedMetricWarning: F-score is ill-defined and being set to 0.0 in labels with no predicted samples.\n",
      "  'precision', 'predicted', average, warn_for)\n",
      "/opt/conda/lib/python3.6/site-packages/sklearn/metrics/classification.py:1137: UndefinedMetricWarning: F-score is ill-defined and being set to 0.0 in labels with no true samples.\n",
      "  'recall', 'true', average, warn_for)\n"
     ]
    },
    {
     "name": "stdout",
     "output_type": "stream",
     "text": [
      "[CV]  clf__estimator__learning_rate=0.3, clf__estimator__n_estimators=400, score=0.6378455002194457, total=10.8min\n"
     ]
    },
    {
     "name": "stderr",
     "output_type": "stream",
     "text": [
      "[Parallel(n_jobs=1)]: Done  12 out of  12 | elapsed: 118.2min finished\n"
     ]
    },
    {
     "data": {
      "text/plain": [
       "GridSearchCV(cv=3, error_score='raise',\n",
       "       estimator=Pipeline(memory=None,\n",
       "     steps=[('vect', CountVectorizer(analyzer='word', binary=False, decode_error='strict',\n",
       "        dtype=<class 'numpy.int64'>, encoding='utf-8', input='content',\n",
       "        lowercase=True, max_df=1.0, max_features=None, min_df=1,\n",
       "        ngram_range=(1, 1), preprocessor=None, stop_words=None,\n",
       "        strip...er='best'),\n",
       "          learning_rate=1.0, n_estimators=50, random_state=None),\n",
       "           n_jobs=1))]),\n",
       "       fit_params=None, iid=True, n_jobs=1,\n",
       "       param_grid={'clf__estimator__learning_rate': [0.1, 0.3], 'clf__estimator__n_estimators': [200, 400]},\n",
       "       pre_dispatch='2*n_jobs', refit=True, return_train_score='warn',\n",
       "       scoring='f1_weighted', verbose=3)"
      ]
     },
     "execution_count": 19,
     "metadata": {},
     "output_type": "execute_result"
    }
   ],
   "source": [
    "# Produces a function that represents a line that best fits all the categories.\n",
    "# This line function can be used to estimate (predict) other results\n",
    "cv_ada.fit(X_train, y_train)"
   ]
  },
  {
   "cell_type": "code",
   "execution_count": 20,
   "metadata": {},
   "outputs": [
    {
     "data": {
      "text/plain": [
       "{'clf__estimator__learning_rate': 0.3, 'clf__estimator__n_estimators': 400}"
      ]
     },
     "execution_count": 20,
     "metadata": {},
     "output_type": "execute_result"
    }
   ],
   "source": [
    "# Displays parameters with the best results for the Adaboost model\n",
    "cv_ada.best_params_"
   ]
  },
  {
   "cell_type": "code",
   "execution_count": 21,
   "metadata": {},
   "outputs": [
    {
     "name": "stdout",
     "output_type": "stream",
     "text": [
      "related:\n",
      "\tAccuracy: 0.7710\tPrecision: 0.8524\tRecall: 0.7710\tF1_score: 0.7877\n",
      "request:\n",
      "\tAccuracy: 0.8783\tPrecision: 0.8979\tRecall: 0.8783\tF1_score: 0.8847\n",
      "offer:\n",
      "\tAccuracy: 0.9862\tPrecision: 0.9964\tRecall: 0.9862\tF1_score: 0.9902\n",
      "aid_related:\n",
      "\tAccuracy: 0.7989\tPrecision: 0.7982\tRecall: 0.7989\tF1_score: 0.7984\n",
      "medical_help:\n",
      "\tAccuracy: 0.8990\tPrecision: 0.9370\tRecall: 0.8990\tF1_score: 0.9122\n",
      "medical_products:\n",
      "\tAccuracy: 0.9139\tPrecision: 0.9599\tRecall: 0.9139\tF1_score: 0.9303\n",
      "search_and_rescue:\n",
      "\tAccuracy: 0.9092\tPrecision: 0.9767\tRecall: 0.9092\tF1_score: 0.9349\n",
      "security:\n",
      "\tAccuracy: 0.9317\tPrecision: 0.9850\tRecall: 0.9317\tF1_score: 0.9527\n",
      "military:\n",
      "\tAccuracy: 0.9677\tPrecision: 0.9824\tRecall: 0.9677\tF1_score: 0.9725\n",
      "child_alone:\n",
      "\tAccuracy: 1.0000\tPrecision: 1.0000\tRecall: 1.0000\tF1_score: 1.0000\n",
      "water:\n",
      "\tAccuracy: 0.9541\tPrecision: 0.9689\tRecall: 0.9541\tF1_score: 0.9588\n",
      "food:\n",
      "\tAccuracy: 0.9554\tPrecision: 0.9602\tRecall: 0.9554\tF1_score: 0.9570\n",
      "shelter:\n",
      "\tAccuracy: 0.9430\tPrecision: 0.9552\tRecall: 0.9430\tF1_score: 0.9471\n",
      "clothing:\n",
      "\tAccuracy: 0.9889\tPrecision: 0.9935\tRecall: 0.9889\tF1_score: 0.9903\n",
      "money:\n",
      "\tAccuracy: 0.9653\tPrecision: 0.9857\tRecall: 0.9653\tF1_score: 0.9724\n",
      "missing_people:\n",
      "\tAccuracy: 0.9706\tPrecision: 0.9919\tRecall: 0.9706\tF1_score: 0.9787\n",
      "refugees:\n",
      "\tAccuracy: 0.9319\tPrecision: 0.9738\tRecall: 0.9319\tF1_score: 0.9471\n",
      "death:\n",
      "\tAccuracy: 0.9605\tPrecision: 0.9743\tRecall: 0.9605\tF1_score: 0.9651\n",
      "other_aid:\n",
      "\tAccuracy: 0.7962\tPrecision: 0.8767\tRecall: 0.7962\tF1_score: 0.8224\n",
      "infrastructure_related:\n",
      "\tAccuracy: 0.8213\tPrecision: 0.9386\tRecall: 0.8213\tF1_score: 0.8619\n",
      "transport:\n",
      "\tAccuracy: 0.8916\tPrecision: 0.9609\tRecall: 0.8916\tF1_score: 0.9169\n",
      "buildings:\n",
      "\tAccuracy: 0.9364\tPrecision: 0.9657\tRecall: 0.9364\tF1_score: 0.9463\n",
      "electricity:\n",
      "\tAccuracy: 0.9766\tPrecision: 0.9888\tRecall: 0.9766\tF1_score: 0.9806\n",
      "tools:\n",
      "\tAccuracy: 0.9876\tPrecision: 0.9962\tRecall: 0.9876\tF1_score: 0.9909\n",
      "hospitals:\n",
      "\tAccuracy: 0.9795\tPrecision: 0.9929\tRecall: 0.9795\tF1_score: 0.9843\n",
      "shops:\n",
      "\tAccuracy: 0.9920\tPrecision: 0.9972\tRecall: 0.9920\tF1_score: 0.9939\n",
      "aid_centers:\n",
      "\tAccuracy: 0.9601\tPrecision: 0.9906\tRecall: 0.9601\tF1_score: 0.9720\n",
      "other_infrastructure:\n",
      "\tAccuracy: 0.8520\tPrecision: 0.9612\tRecall: 0.8520\tF1_score: 0.8917\n",
      "weather_related:\n",
      "\tAccuracy: 0.9035\tPrecision: 0.9026\tRecall: 0.9035\tF1_score: 0.9030\n",
      "floods:\n",
      "\tAccuracy: 0.9520\tPrecision: 0.9569\tRecall: 0.9520\tF1_score: 0.9539\n",
      "storm:\n",
      "\tAccuracy: 0.9510\tPrecision: 0.9610\tRecall: 0.9510\tF1_score: 0.9541\n",
      "fire:\n",
      "\tAccuracy: 0.9869\tPrecision: 0.9942\tRecall: 0.9869\tF1_score: 0.9894\n",
      "earthquake:\n",
      "\tAccuracy: 0.9742\tPrecision: 0.9754\tRecall: 0.9742\tF1_score: 0.9746\n",
      "cold:\n",
      "\tAccuracy: 0.9804\tPrecision: 0.9895\tRecall: 0.9804\tF1_score: 0.9833\n",
      "other_weather:\n",
      "\tAccuracy: 0.8986\tPrecision: 0.9567\tRecall: 0.8986\tF1_score: 0.9192\n",
      "direct_report:\n",
      "\tAccuracy: 0.8278\tPrecision: 0.8609\tRecall: 0.8278\tF1_score: 0.8383\n"
     ]
    }
   ],
   "source": [
    "y_pred = cv_ada.predict(X_train)\n",
    "\n",
    "multioutput_classification_report(y_train, y_pred)"
   ]
  },
  {
   "cell_type": "code",
   "execution_count": 22,
   "metadata": {},
   "outputs": [
    {
     "name": "stdout",
     "output_type": "stream",
     "text": [
      "related:\n",
      "\tAccuracy: 0.7513\tPrecision: 0.8307\tRecall: 0.7513\tF1_score: 0.7690\n",
      "request:\n",
      "\tAccuracy: 0.8578\tPrecision: 0.8807\tRecall: 0.8578\tF1_score: 0.8658\n",
      "offer:\n",
      "\tAccuracy: 0.9776\tPrecision: 0.9938\tRecall: 0.9776\tF1_score: 0.9855\n",
      "aid_related:\n",
      "\tAccuracy: 0.7817\tPrecision: 0.7809\tRecall: 0.7817\tF1_score: 0.7812\n",
      "medical_help:\n",
      "\tAccuracy: 0.8706\tPrecision: 0.9149\tRecall: 0.8706\tF1_score: 0.8880\n",
      "medical_products:\n",
      "\tAccuracy: 0.8874\tPrecision: 0.9387\tRecall: 0.8874\tF1_score: 0.9081\n",
      "search_and_rescue:\n",
      "\tAccuracy: 0.8865\tPrecision: 0.9587\tRecall: 0.8865\tF1_score: 0.9180\n",
      "security:\n",
      "\tAccuracy: 0.9002\tPrecision: 0.9710\tRecall: 0.9002\tF1_score: 0.9324\n",
      "military:\n",
      "\tAccuracy: 0.9530\tPrecision: 0.9669\tRecall: 0.9530\tF1_score: 0.9586\n",
      "child_alone:\n",
      "\tAccuracy: 1.0000\tPrecision: 1.0000\tRecall: 1.0000\tF1_score: 1.0000\n",
      "water:\n",
      "\tAccuracy: 0.9481\tPrecision: 0.9643\tRecall: 0.9481\tF1_score: 0.9534\n",
      "food:\n",
      "\tAccuracy: 0.9481\tPrecision: 0.9530\tRecall: 0.9481\tF1_score: 0.9499\n",
      "shelter:\n",
      "\tAccuracy: 0.9292\tPrecision: 0.9427\tRecall: 0.9292\tF1_score: 0.9342\n",
      "clothing:\n",
      "\tAccuracy: 0.9768\tPrecision: 0.9847\tRecall: 0.9768\tF1_score: 0.9801\n",
      "money:\n",
      "\tAccuracy: 0.9539\tPrecision: 0.9746\tRecall: 0.9539\tF1_score: 0.9623\n",
      "missing_people:\n",
      "\tAccuracy: 0.9583\tPrecision: 0.9795\tRecall: 0.9583\tF1_score: 0.9683\n",
      "refugees:\n",
      "\tAccuracy: 0.9155\tPrecision: 0.9599\tRecall: 0.9155\tF1_score: 0.9340\n",
      "death:\n",
      "\tAccuracy: 0.9466\tPrecision: 0.9592\tRecall: 0.9466\tF1_score: 0.9517\n",
      "other_aid:\n",
      "\tAccuracy: 0.7601\tPrecision: 0.8450\tRecall: 0.7601\tF1_score: 0.7907\n",
      "infrastructure_related:\n",
      "\tAccuracy: 0.7894\tPrecision: 0.9161\tRecall: 0.7894\tF1_score: 0.8382\n",
      "transport:\n",
      "\tAccuracy: 0.8616\tPrecision: 0.9306\tRecall: 0.8616\tF1_score: 0.8905\n",
      "buildings:\n",
      "\tAccuracy: 0.9200\tPrecision: 0.9529\tRecall: 0.9200\tF1_score: 0.9327\n",
      "electricity:\n",
      "\tAccuracy: 0.9635\tPrecision: 0.9800\tRecall: 0.9635\tF1_score: 0.9702\n",
      "tools:\n",
      "\tAccuracy: 0.9768\tPrecision: 0.9859\tRecall: 0.9768\tF1_score: 0.9812\n",
      "hospitals:\n",
      "\tAccuracy: 0.9672\tPrecision: 0.9843\tRecall: 0.9672\tF1_score: 0.9750\n",
      "shops:\n",
      "\tAccuracy: 0.9847\tPrecision: 0.9898\tRecall: 0.9847\tF1_score: 0.9873\n",
      "aid_centers:\n",
      "\tAccuracy: 0.9434\tPrecision: 0.9833\tRecall: 0.9434\tF1_score: 0.9619\n",
      "other_infrastructure:\n",
      "\tAccuracy: 0.8224\tPrecision: 0.9385\tRecall: 0.8224\tF1_score: 0.8697\n",
      "weather_related:\n",
      "\tAccuracy: 0.8875\tPrecision: 0.8863\tRecall: 0.8875\tF1_score: 0.8867\n",
      "floods:\n",
      "\tAccuracy: 0.9333\tPrecision: 0.9374\tRecall: 0.9333\tF1_score: 0.9351\n",
      "storm:\n",
      "\tAccuracy: 0.9474\tPrecision: 0.9545\tRecall: 0.9474\tF1_score: 0.9499\n",
      "fire:\n",
      "\tAccuracy: 0.9759\tPrecision: 0.9862\tRecall: 0.9759\tF1_score: 0.9804\n",
      "earthquake:\n",
      "\tAccuracy: 0.9643\tPrecision: 0.9650\tRecall: 0.9643\tF1_score: 0.9646\n",
      "cold:\n",
      "\tAccuracy: 0.9728\tPrecision: 0.9816\tRecall: 0.9728\tF1_score: 0.9765\n",
      "other_weather:\n",
      "\tAccuracy: 0.8732\tPrecision: 0.9306\tRecall: 0.8732\tF1_score: 0.8969\n",
      "direct_report:\n",
      "\tAccuracy: 0.7989\tPrecision: 0.8400\tRecall: 0.7989\tF1_score: 0.8123\n"
     ]
    }
   ],
   "source": [
    "y_pred = cv_ada.predict(X_test)\n",
    "\n",
    "multioutput_classification_report(y_test, y_pred)"
   ]
  },
  {
   "cell_type": "markdown",
   "metadata": {},
   "source": [
    "### 9. Export your model as a pickle file"
   ]
  },
  {
   "cell_type": "code",
   "execution_count": 23,
   "metadata": {},
   "outputs": [],
   "source": [
    "with open('adaboost_cv.pkl', 'wb') as file:\n",
    "    pickle.dump(cv_ada, file)"
   ]
  },
  {
   "cell_type": "markdown",
   "metadata": {},
   "source": [
    "### 10. Use this notebook to complete `train.py`\n",
    "Use the template file attached in the Resources folder to write a script that runs the steps above to create a database and export a model based on a new dataset specified by the user."
   ]
  },
  {
   "cell_type": "code",
   "execution_count": null,
   "metadata": {},
   "outputs": [],
   "source": []
  }
 ],
 "metadata": {
  "kernelspec": {
   "display_name": "Python 3",
   "language": "python",
   "name": "python3"
  },
  "language_info": {
   "codemirror_mode": {
    "name": "ipython",
    "version": 3
   },
   "file_extension": ".py",
   "mimetype": "text/x-python",
   "name": "python",
   "nbconvert_exporter": "python",
   "pygments_lexer": "ipython3",
   "version": "3.6.3"
  }
 },
 "nbformat": 4,
 "nbformat_minor": 2
}
